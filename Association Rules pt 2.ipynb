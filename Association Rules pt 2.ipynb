{
 "cells": [
  {
   "cell_type": "markdown",
   "metadata": {},
   "source": [
    "# The following code creates a dataframe of the purchases from one store over a period of 1 month in 2005 and creates a test set from the same store but a different month of 2005"
   ]
  },
  {
   "cell_type": "code",
   "execution_count": 1,
   "metadata": {},
   "outputs": [],
   "source": [
    "import numpy as np\n",
    "import pandas as pd\n",
    "\n",
    "from mlxtend.frequent_patterns import apriori\n",
    "from mlxtend.frequent_patterns import association_rules"
   ]
  },
  {
   "cell_type": "code",
   "execution_count": 2,
   "metadata": {},
   "outputs": [],
   "source": [
    "data=pd.read_csv('sku_store_register_trans.csv')"
   ]
  },
  {
   "cell_type": "code",
   "execution_count": 16,
   "metadata": {},
   "outputs": [
    {
     "data": {
      "text/html": [
       "<div>\n",
       "<style scoped>\n",
       "    .dataframe tbody tr th:only-of-type {\n",
       "        vertical-align: middle;\n",
       "    }\n",
       "\n",
       "    .dataframe tbody tr th {\n",
       "        vertical-align: top;\n",
       "    }\n",
       "\n",
       "    .dataframe thead th {\n",
       "        text-align: right;\n",
       "    }\n",
       "</style>\n",
       "<table border=\"1\" class=\"dataframe\">\n",
       "  <thead>\n",
       "    <tr style=\"text-align: right;\">\n",
       "      <th></th>\n",
       "      <th>SKU</th>\n",
       "      <th>STORE</th>\n",
       "      <th>REGISTER</th>\n",
       "      <th>TRANNUM</th>\n",
       "      <th>SALEDATE</th>\n",
       "    </tr>\n",
       "  </thead>\n",
       "  <tbody>\n",
       "    <tr>\n",
       "      <td>111649073</td>\n",
       "      <td>7146946</td>\n",
       "      <td>9909</td>\n",
       "      <td>3</td>\n",
       "      <td>94700</td>\n",
       "      <td>2004-09-30</td>\n",
       "    </tr>\n",
       "    <tr>\n",
       "      <td>111649074</td>\n",
       "      <td>8272048</td>\n",
       "      <td>9909</td>\n",
       "      <td>3</td>\n",
       "      <td>95100</td>\n",
       "      <td>2004-10-01</td>\n",
       "    </tr>\n",
       "    <tr>\n",
       "      <td>111649075</td>\n",
       "      <td>8272048</td>\n",
       "      <td>9909</td>\n",
       "      <td>3</td>\n",
       "      <td>95100</td>\n",
       "      <td>2004-10-01</td>\n",
       "    </tr>\n",
       "    <tr>\n",
       "      <td>111649076</td>\n",
       "      <td>3781677</td>\n",
       "      <td>9909</td>\n",
       "      <td>3</td>\n",
       "      <td>95400</td>\n",
       "      <td>2004-10-01</td>\n",
       "    </tr>\n",
       "    <tr>\n",
       "      <td>111649077</td>\n",
       "      <td>4108841</td>\n",
       "      <td>9909</td>\n",
       "      <td>13</td>\n",
       "      <td>95500</td>\n",
       "      <td>2005-06-28</td>\n",
       "    </tr>\n",
       "    <tr>\n",
       "      <td>111649078</td>\n",
       "      <td>5893173</td>\n",
       "      <td>9909</td>\n",
       "      <td>13</td>\n",
       "      <td>95500</td>\n",
       "      <td>2005-06-28</td>\n",
       "    </tr>\n",
       "    <tr>\n",
       "      <td>111649079</td>\n",
       "      <td>6413173</td>\n",
       "      <td>9909</td>\n",
       "      <td>13</td>\n",
       "      <td>95500</td>\n",
       "      <td>2005-06-28</td>\n",
       "    </tr>\n",
       "    <tr>\n",
       "      <td>111649080</td>\n",
       "      <td>7086403</td>\n",
       "      <td>9909</td>\n",
       "      <td>3</td>\n",
       "      <td>96900</td>\n",
       "      <td>2004-10-05</td>\n",
       "    </tr>\n",
       "    <tr>\n",
       "      <td>111649081</td>\n",
       "      <td>112307</td>\n",
       "      <td>9909</td>\n",
       "      <td>13</td>\n",
       "      <td>97000</td>\n",
       "      <td>2005-07-04</td>\n",
       "    </tr>\n",
       "    <tr>\n",
       "      <td>111649082</td>\n",
       "      <td>2637662</td>\n",
       "      <td>9909</td>\n",
       "      <td>13</td>\n",
       "      <td>97000</td>\n",
       "      <td>2005-07-04</td>\n",
       "    </tr>\n",
       "    <tr>\n",
       "      <td>111649083</td>\n",
       "      <td>2637662</td>\n",
       "      <td>9909</td>\n",
       "      <td>13</td>\n",
       "      <td>97000</td>\n",
       "      <td>2005-07-04</td>\n",
       "    </tr>\n",
       "    <tr>\n",
       "      <td>111649084</td>\n",
       "      <td>2637662</td>\n",
       "      <td>9909</td>\n",
       "      <td>13</td>\n",
       "      <td>97000</td>\n",
       "      <td>2005-07-04</td>\n",
       "    </tr>\n",
       "    <tr>\n",
       "      <td>111649085</td>\n",
       "      <td>2637662</td>\n",
       "      <td>9909</td>\n",
       "      <td>13</td>\n",
       "      <td>97000</td>\n",
       "      <td>2005-07-04</td>\n",
       "    </tr>\n",
       "    <tr>\n",
       "      <td>111649086</td>\n",
       "      <td>9589290</td>\n",
       "      <td>9909</td>\n",
       "      <td>13</td>\n",
       "      <td>97300</td>\n",
       "      <td>2005-07-05</td>\n",
       "    </tr>\n",
       "    <tr>\n",
       "      <td>111649087</td>\n",
       "      <td>5663975</td>\n",
       "      <td>9909</td>\n",
       "      <td>13</td>\n",
       "      <td>99400</td>\n",
       "      <td>2005-07-07</td>\n",
       "    </tr>\n",
       "    <tr>\n",
       "      <td>111649088</td>\n",
       "      <td>5663975</td>\n",
       "      <td>9909</td>\n",
       "      <td>13</td>\n",
       "      <td>99400</td>\n",
       "      <td>2005-07-07</td>\n",
       "    </tr>\n",
       "    <tr>\n",
       "      <td>111649089</td>\n",
       "      <td>5663975</td>\n",
       "      <td>9909</td>\n",
       "      <td>13</td>\n",
       "      <td>99400</td>\n",
       "      <td>2005-07-07</td>\n",
       "    </tr>\n",
       "    <tr>\n",
       "      <td>111649090</td>\n",
       "      <td>8368304</td>\n",
       "      <td>9909</td>\n",
       "      <td>13</td>\n",
       "      <td>99900</td>\n",
       "      <td>2005-07-07</td>\n",
       "    </tr>\n",
       "    <tr>\n",
       "      <td>111649091</td>\n",
       "      <td>8368304</td>\n",
       "      <td>9909</td>\n",
       "      <td>13</td>\n",
       "      <td>99900</td>\n",
       "      <td>2005-07-07</td>\n",
       "    </tr>\n",
       "    <tr>\n",
       "      <td>111649092</td>\n",
       "      <td>8368304</td>\n",
       "      <td>9909</td>\n",
       "      <td>13</td>\n",
       "      <td>99900</td>\n",
       "      <td>2005-07-07</td>\n",
       "    </tr>\n",
       "  </tbody>\n",
       "</table>\n",
       "</div>"
      ],
      "text/plain": [
       "               SKU  STORE  REGISTER  TRANNUM    SALEDATE\n",
       "111649073  7146946   9909         3    94700  2004-09-30\n",
       "111649074  8272048   9909         3    95100  2004-10-01\n",
       "111649075  8272048   9909         3    95100  2004-10-01\n",
       "111649076  3781677   9909         3    95400  2004-10-01\n",
       "111649077  4108841   9909        13    95500  2005-06-28\n",
       "111649078  5893173   9909        13    95500  2005-06-28\n",
       "111649079  6413173   9909        13    95500  2005-06-28\n",
       "111649080  7086403   9909         3    96900  2004-10-05\n",
       "111649081   112307   9909        13    97000  2005-07-04\n",
       "111649082  2637662   9909        13    97000  2005-07-04\n",
       "111649083  2637662   9909        13    97000  2005-07-04\n",
       "111649084  2637662   9909        13    97000  2005-07-04\n",
       "111649085  2637662   9909        13    97000  2005-07-04\n",
       "111649086  9589290   9909        13    97300  2005-07-05\n",
       "111649087  5663975   9909        13    99400  2005-07-07\n",
       "111649088  5663975   9909        13    99400  2005-07-07\n",
       "111649089  5663975   9909        13    99400  2005-07-07\n",
       "111649090  8368304   9909        13    99900  2005-07-07\n",
       "111649091  8368304   9909        13    99900  2005-07-07\n",
       "111649092  8368304   9909        13    99900  2005-07-07"
      ]
     },
     "execution_count": 16,
     "metadata": {},
     "output_type": "execute_result"
    }
   ],
   "source": [
    "data.tail(20)"
   ]
  },
  {
   "cell_type": "code",
   "execution_count": 28,
   "metadata": {},
   "outputs": [],
   "source": [
    "onestore=data[data['STORE']==8402]"
   ]
  },
  {
   "cell_type": "code",
   "execution_count": 29,
   "metadata": {},
   "outputs": [],
   "source": [
    "onestore=onestore.drop(columns=[\"STORE\"])"
   ]
  },
  {
   "cell_type": "code",
   "execution_count": 30,
   "metadata": {},
   "outputs": [],
   "source": [
    "onestore=onestore[onestore['SALEDATE'].str.contains('2005', na=False)]"
   ]
  },
  {
   "cell_type": "code",
   "execution_count": 37,
   "metadata": {},
   "outputs": [],
   "source": [
    "onestoretrain=onestore[onestore['SALEDATE'].str.contains('-01-', na=False)]"
   ]
  },
  {
   "cell_type": "code",
   "execution_count": 38,
   "metadata": {},
   "outputs": [],
   "source": [
    "onestoretest=onestore[onestore['SALEDATE'].str.contains('-02-', na=False)]"
   ]
  },
  {
   "cell_type": "code",
   "execution_count": 39,
   "metadata": {},
   "outputs": [
    {
     "data": {
      "text/html": [
       "<div>\n",
       "<style scoped>\n",
       "    .dataframe tbody tr th:only-of-type {\n",
       "        vertical-align: middle;\n",
       "    }\n",
       "\n",
       "    .dataframe tbody tr th {\n",
       "        vertical-align: top;\n",
       "    }\n",
       "\n",
       "    .dataframe thead th {\n",
       "        text-align: right;\n",
       "    }\n",
       "</style>\n",
       "<table border=\"1\" class=\"dataframe\">\n",
       "  <thead>\n",
       "    <tr style=\"text-align: right;\">\n",
       "      <th></th>\n",
       "      <th>SKU</th>\n",
       "      <th>REGISTER</th>\n",
       "      <th>TRANNUM</th>\n",
       "      <th>SALEDATE</th>\n",
       "    </tr>\n",
       "  </thead>\n",
       "  <tbody>\n",
       "    <tr>\n",
       "      <td>96942476</td>\n",
       "      <td>7999269</td>\n",
       "      <td>10</td>\n",
       "      <td>100</td>\n",
       "      <td>2005-02-07</td>\n",
       "    </tr>\n",
       "    <tr>\n",
       "      <td>96942497</td>\n",
       "      <td>136343</td>\n",
       "      <td>70</td>\n",
       "      <td>100</td>\n",
       "      <td>2005-02-23</td>\n",
       "    </tr>\n",
       "    <tr>\n",
       "      <td>96942498</td>\n",
       "      <td>136343</td>\n",
       "      <td>70</td>\n",
       "      <td>100</td>\n",
       "      <td>2005-02-23</td>\n",
       "    </tr>\n",
       "    <tr>\n",
       "      <td>96942571</td>\n",
       "      <td>3913323</td>\n",
       "      <td>191</td>\n",
       "      <td>100</td>\n",
       "      <td>2005-02-21</td>\n",
       "    </tr>\n",
       "    <tr>\n",
       "      <td>96942574</td>\n",
       "      <td>8062893</td>\n",
       "      <td>201</td>\n",
       "      <td>100</td>\n",
       "      <td>2005-02-24</td>\n",
       "    </tr>\n",
       "  </tbody>\n",
       "</table>\n",
       "</div>"
      ],
      "text/plain": [
       "              SKU  REGISTER  TRANNUM    SALEDATE\n",
       "96942476  7999269        10      100  2005-02-07\n",
       "96942497   136343        70      100  2005-02-23\n",
       "96942498   136343        70      100  2005-02-23\n",
       "96942571  3913323       191      100  2005-02-21\n",
       "96942574  8062893       201      100  2005-02-24"
      ]
     },
     "execution_count": 39,
     "metadata": {},
     "output_type": "execute_result"
    }
   ],
   "source": [
    "onestoretest.head()"
   ]
  },
  {
   "cell_type": "code",
   "execution_count": 40,
   "metadata": {},
   "outputs": [],
   "source": [
    "onestoretest=onestoretest.replace('-', '', regex=True).astype(str)"
   ]
  },
  {
   "cell_type": "code",
   "execution_count": 41,
   "metadata": {},
   "outputs": [],
   "source": [
    "onestoretrain=onestoretrain.replace('-', '', regex=True).astype(str)"
   ]
  },
  {
   "cell_type": "code",
   "execution_count": 42,
   "metadata": {},
   "outputs": [
    {
     "data": {
      "text/html": [
       "<div>\n",
       "<style scoped>\n",
       "    .dataframe tbody tr th:only-of-type {\n",
       "        vertical-align: middle;\n",
       "    }\n",
       "\n",
       "    .dataframe tbody tr th {\n",
       "        vertical-align: top;\n",
       "    }\n",
       "\n",
       "    .dataframe thead th {\n",
       "        text-align: right;\n",
       "    }\n",
       "</style>\n",
       "<table border=\"1\" class=\"dataframe\">\n",
       "  <thead>\n",
       "    <tr style=\"text-align: right;\">\n",
       "      <th></th>\n",
       "      <th>SKU</th>\n",
       "      <th>REGISTER</th>\n",
       "      <th>TRANNUM</th>\n",
       "      <th>SALEDATE</th>\n",
       "      <th>UNIQUETRANS</th>\n",
       "    </tr>\n",
       "  </thead>\n",
       "  <tbody>\n",
       "    <tr>\n",
       "      <td>96942476</td>\n",
       "      <td>7999269</td>\n",
       "      <td>10</td>\n",
       "      <td>100</td>\n",
       "      <td>20050207</td>\n",
       "      <td>1010020050207</td>\n",
       "    </tr>\n",
       "    <tr>\n",
       "      <td>96942497</td>\n",
       "      <td>136343</td>\n",
       "      <td>70</td>\n",
       "      <td>100</td>\n",
       "      <td>20050223</td>\n",
       "      <td>7010020050223</td>\n",
       "    </tr>\n",
       "    <tr>\n",
       "      <td>96942498</td>\n",
       "      <td>136343</td>\n",
       "      <td>70</td>\n",
       "      <td>100</td>\n",
       "      <td>20050223</td>\n",
       "      <td>7010020050223</td>\n",
       "    </tr>\n",
       "    <tr>\n",
       "      <td>96942571</td>\n",
       "      <td>3913323</td>\n",
       "      <td>191</td>\n",
       "      <td>100</td>\n",
       "      <td>20050221</td>\n",
       "      <td>19110020050221</td>\n",
       "    </tr>\n",
       "    <tr>\n",
       "      <td>96942574</td>\n",
       "      <td>8062893</td>\n",
       "      <td>201</td>\n",
       "      <td>100</td>\n",
       "      <td>20050224</td>\n",
       "      <td>20110020050224</td>\n",
       "    </tr>\n",
       "    <tr>\n",
       "      <td>96942643</td>\n",
       "      <td>3598013</td>\n",
       "      <td>430</td>\n",
       "      <td>100</td>\n",
       "      <td>20050216</td>\n",
       "      <td>43010020050216</td>\n",
       "    </tr>\n",
       "    <tr>\n",
       "      <td>96942644</td>\n",
       "      <td>3718013</td>\n",
       "      <td>430</td>\n",
       "      <td>100</td>\n",
       "      <td>20050216</td>\n",
       "      <td>43010020050216</td>\n",
       "    </tr>\n",
       "    <tr>\n",
       "      <td>96942645</td>\n",
       "      <td>3718013</td>\n",
       "      <td>430</td>\n",
       "      <td>100</td>\n",
       "      <td>20050216</td>\n",
       "      <td>43010020050216</td>\n",
       "    </tr>\n",
       "    <tr>\n",
       "      <td>96942646</td>\n",
       "      <td>3410289</td>\n",
       "      <td>430</td>\n",
       "      <td>100</td>\n",
       "      <td>20050222</td>\n",
       "      <td>43010020050222</td>\n",
       "    </tr>\n",
       "    <tr>\n",
       "      <td>96942647</td>\n",
       "      <td>3757654</td>\n",
       "      <td>430</td>\n",
       "      <td>100</td>\n",
       "      <td>20050222</td>\n",
       "      <td>43010020050222</td>\n",
       "    </tr>\n",
       "    <tr>\n",
       "      <td>96942671</td>\n",
       "      <td>4916879</td>\n",
       "      <td>500</td>\n",
       "      <td>100</td>\n",
       "      <td>20050226</td>\n",
       "      <td>50010020050226</td>\n",
       "    </tr>\n",
       "    <tr>\n",
       "      <td>96942672</td>\n",
       "      <td>8806926</td>\n",
       "      <td>500</td>\n",
       "      <td>100</td>\n",
       "      <td>20050226</td>\n",
       "      <td>50010020050226</td>\n",
       "    </tr>\n",
       "    <tr>\n",
       "      <td>96942673</td>\n",
       "      <td>8996926</td>\n",
       "      <td>500</td>\n",
       "      <td>100</td>\n",
       "      <td>20050226</td>\n",
       "      <td>50010020050226</td>\n",
       "    </tr>\n",
       "    <tr>\n",
       "      <td>96942702</td>\n",
       "      <td>6906785</td>\n",
       "      <td>610</td>\n",
       "      <td>100</td>\n",
       "      <td>20050204</td>\n",
       "      <td>61010020050204</td>\n",
       "    </tr>\n",
       "    <tr>\n",
       "      <td>96942740</td>\n",
       "      <td>9654040</td>\n",
       "      <td>660</td>\n",
       "      <td>100</td>\n",
       "      <td>20050220</td>\n",
       "      <td>66010020050220</td>\n",
       "    </tr>\n",
       "    <tr>\n",
       "      <td>96942779</td>\n",
       "      <td>8703800</td>\n",
       "      <td>780</td>\n",
       "      <td>100</td>\n",
       "      <td>20050214</td>\n",
       "      <td>78010020050214</td>\n",
       "    </tr>\n",
       "    <tr>\n",
       "      <td>96942792</td>\n",
       "      <td>8433337</td>\n",
       "      <td>790</td>\n",
       "      <td>100</td>\n",
       "      <td>20050215</td>\n",
       "      <td>79010020050215</td>\n",
       "    </tr>\n",
       "    <tr>\n",
       "      <td>96942799</td>\n",
       "      <td>4223596</td>\n",
       "      <td>820</td>\n",
       "      <td>100</td>\n",
       "      <td>20050223</td>\n",
       "      <td>82010020050223</td>\n",
       "    </tr>\n",
       "    <tr>\n",
       "      <td>96942800</td>\n",
       "      <td>4813596</td>\n",
       "      <td>820</td>\n",
       "      <td>100</td>\n",
       "      <td>20050223</td>\n",
       "      <td>82010020050223</td>\n",
       "    </tr>\n",
       "    <tr>\n",
       "      <td>96942801</td>\n",
       "      <td>9063595</td>\n",
       "      <td>820</td>\n",
       "      <td>100</td>\n",
       "      <td>20050223</td>\n",
       "      <td>82010020050223</td>\n",
       "    </tr>\n",
       "  </tbody>\n",
       "</table>\n",
       "</div>"
      ],
      "text/plain": [
       "              SKU REGISTER TRANNUM  SALEDATE     UNIQUETRANS\n",
       "96942476  7999269       10     100  20050207   1010020050207\n",
       "96942497   136343       70     100  20050223   7010020050223\n",
       "96942498   136343       70     100  20050223   7010020050223\n",
       "96942571  3913323      191     100  20050221  19110020050221\n",
       "96942574  8062893      201     100  20050224  20110020050224\n",
       "96942643  3598013      430     100  20050216  43010020050216\n",
       "96942644  3718013      430     100  20050216  43010020050216\n",
       "96942645  3718013      430     100  20050216  43010020050216\n",
       "96942646  3410289      430     100  20050222  43010020050222\n",
       "96942647  3757654      430     100  20050222  43010020050222\n",
       "96942671  4916879      500     100  20050226  50010020050226\n",
       "96942672  8806926      500     100  20050226  50010020050226\n",
       "96942673  8996926      500     100  20050226  50010020050226\n",
       "96942702  6906785      610     100  20050204  61010020050204\n",
       "96942740  9654040      660     100  20050220  66010020050220\n",
       "96942779  8703800      780     100  20050214  78010020050214\n",
       "96942792  8433337      790     100  20050215  79010020050215\n",
       "96942799  4223596      820     100  20050223  82010020050223\n",
       "96942800  4813596      820     100  20050223  82010020050223\n",
       "96942801  9063595      820     100  20050223  82010020050223"
      ]
     },
     "execution_count": 42,
     "metadata": {},
     "output_type": "execute_result"
    }
   ],
   "source": [
    "onestoretest = onestoretest.assign(UNIQUETRANS = onestoretest.REGISTER.astype(str) + onestoretest.TRANNUM.astype(str)+ onestoretest.SALEDATE.astype(str))\n",
    "onestoretest.head(20)"
   ]
  },
  {
   "cell_type": "code",
   "execution_count": 43,
   "metadata": {},
   "outputs": [
    {
     "data": {
      "text/html": [
       "<div>\n",
       "<style scoped>\n",
       "    .dataframe tbody tr th:only-of-type {\n",
       "        vertical-align: middle;\n",
       "    }\n",
       "\n",
       "    .dataframe tbody tr th {\n",
       "        vertical-align: top;\n",
       "    }\n",
       "\n",
       "    .dataframe thead th {\n",
       "        text-align: right;\n",
       "    }\n",
       "</style>\n",
       "<table border=\"1\" class=\"dataframe\">\n",
       "  <thead>\n",
       "    <tr style=\"text-align: right;\">\n",
       "      <th></th>\n",
       "      <th>SKU</th>\n",
       "      <th>REGISTER</th>\n",
       "      <th>TRANNUM</th>\n",
       "      <th>SALEDATE</th>\n",
       "      <th>UNIQUETRANS</th>\n",
       "    </tr>\n",
       "  </thead>\n",
       "  <tbody>\n",
       "    <tr>\n",
       "      <td>96942483</td>\n",
       "      <td>9129941</td>\n",
       "      <td>50</td>\n",
       "      <td>100</td>\n",
       "      <td>20050123</td>\n",
       "      <td>5010020050123</td>\n",
       "    </tr>\n",
       "    <tr>\n",
       "      <td>96942522</td>\n",
       "      <td>868897</td>\n",
       "      <td>150</td>\n",
       "      <td>100</td>\n",
       "      <td>20050106</td>\n",
       "      <td>15010020050106</td>\n",
       "    </tr>\n",
       "    <tr>\n",
       "      <td>96942690</td>\n",
       "      <td>5400911</td>\n",
       "      <td>560</td>\n",
       "      <td>100</td>\n",
       "      <td>20050105</td>\n",
       "      <td>56010020050105</td>\n",
       "    </tr>\n",
       "    <tr>\n",
       "      <td>96942691</td>\n",
       "      <td>6196947</td>\n",
       "      <td>560</td>\n",
       "      <td>100</td>\n",
       "      <td>20050105</td>\n",
       "      <td>56010020050105</td>\n",
       "    </tr>\n",
       "    <tr>\n",
       "      <td>96942692</td>\n",
       "      <td>6614464</td>\n",
       "      <td>560</td>\n",
       "      <td>100</td>\n",
       "      <td>20050105</td>\n",
       "      <td>56010020050105</td>\n",
       "    </tr>\n",
       "    <tr>\n",
       "      <td>96942693</td>\n",
       "      <td>8696850</td>\n",
       "      <td>560</td>\n",
       "      <td>100</td>\n",
       "      <td>20050105</td>\n",
       "      <td>56010020050105</td>\n",
       "    </tr>\n",
       "    <tr>\n",
       "      <td>96942694</td>\n",
       "      <td>9864335</td>\n",
       "      <td>560</td>\n",
       "      <td>100</td>\n",
       "      <td>20050105</td>\n",
       "      <td>56010020050105</td>\n",
       "    </tr>\n",
       "    <tr>\n",
       "      <td>96942776</td>\n",
       "      <td>3194708</td>\n",
       "      <td>780</td>\n",
       "      <td>100</td>\n",
       "      <td>20050104</td>\n",
       "      <td>78010020050104</td>\n",
       "    </tr>\n",
       "    <tr>\n",
       "      <td>96942777</td>\n",
       "      <td>314088</td>\n",
       "      <td>780</td>\n",
       "      <td>100</td>\n",
       "      <td>20050113</td>\n",
       "      <td>78010020050113</td>\n",
       "    </tr>\n",
       "    <tr>\n",
       "      <td>96942778</td>\n",
       "      <td>3254117</td>\n",
       "      <td>780</td>\n",
       "      <td>100</td>\n",
       "      <td>20050113</td>\n",
       "      <td>78010020050113</td>\n",
       "    </tr>\n",
       "    <tr>\n",
       "      <td>96942812</td>\n",
       "      <td>1937807</td>\n",
       "      <td>850</td>\n",
       "      <td>100</td>\n",
       "      <td>20050114</td>\n",
       "      <td>85010020050114</td>\n",
       "    </tr>\n",
       "    <tr>\n",
       "      <td>96942813</td>\n",
       "      <td>2808367</td>\n",
       "      <td>850</td>\n",
       "      <td>100</td>\n",
       "      <td>20050125</td>\n",
       "      <td>85010020050125</td>\n",
       "    </tr>\n",
       "    <tr>\n",
       "      <td>96942814</td>\n",
       "      <td>3248362</td>\n",
       "      <td>850</td>\n",
       "      <td>100</td>\n",
       "      <td>20050125</td>\n",
       "      <td>85010020050125</td>\n",
       "    </tr>\n",
       "    <tr>\n",
       "      <td>96942815</td>\n",
       "      <td>5519235</td>\n",
       "      <td>850</td>\n",
       "      <td>100</td>\n",
       "      <td>20050125</td>\n",
       "      <td>85010020050125</td>\n",
       "    </tr>\n",
       "    <tr>\n",
       "      <td>96942876</td>\n",
       "      <td>5586314</td>\n",
       "      <td>1</td>\n",
       "      <td>200</td>\n",
       "      <td>20050125</td>\n",
       "      <td>120020050125</td>\n",
       "    </tr>\n",
       "    <tr>\n",
       "      <td>96942877</td>\n",
       "      <td>6496314</td>\n",
       "      <td>1</td>\n",
       "      <td>200</td>\n",
       "      <td>20050125</td>\n",
       "      <td>120020050125</td>\n",
       "    </tr>\n",
       "    <tr>\n",
       "      <td>96942980</td>\n",
       "      <td>7992671</td>\n",
       "      <td>11</td>\n",
       "      <td>200</td>\n",
       "      <td>20050103</td>\n",
       "      <td>1120020050103</td>\n",
       "    </tr>\n",
       "    <tr>\n",
       "      <td>96942981</td>\n",
       "      <td>3806163</td>\n",
       "      <td>11</td>\n",
       "      <td>200</td>\n",
       "      <td>20050105</td>\n",
       "      <td>1120020050105</td>\n",
       "    </tr>\n",
       "    <tr>\n",
       "      <td>96942982</td>\n",
       "      <td>3806163</td>\n",
       "      <td>11</td>\n",
       "      <td>200</td>\n",
       "      <td>20050105</td>\n",
       "      <td>1120020050105</td>\n",
       "    </tr>\n",
       "    <tr>\n",
       "      <td>96942983</td>\n",
       "      <td>3016216</td>\n",
       "      <td>11</td>\n",
       "      <td>200</td>\n",
       "      <td>20050106</td>\n",
       "      <td>1120020050106</td>\n",
       "    </tr>\n",
       "  </tbody>\n",
       "</table>\n",
       "</div>"
      ],
      "text/plain": [
       "              SKU REGISTER TRANNUM  SALEDATE     UNIQUETRANS\n",
       "96942483  9129941       50     100  20050123   5010020050123\n",
       "96942522   868897      150     100  20050106  15010020050106\n",
       "96942690  5400911      560     100  20050105  56010020050105\n",
       "96942691  6196947      560     100  20050105  56010020050105\n",
       "96942692  6614464      560     100  20050105  56010020050105\n",
       "96942693  8696850      560     100  20050105  56010020050105\n",
       "96942694  9864335      560     100  20050105  56010020050105\n",
       "96942776  3194708      780     100  20050104  78010020050104\n",
       "96942777   314088      780     100  20050113  78010020050113\n",
       "96942778  3254117      780     100  20050113  78010020050113\n",
       "96942812  1937807      850     100  20050114  85010020050114\n",
       "96942813  2808367      850     100  20050125  85010020050125\n",
       "96942814  3248362      850     100  20050125  85010020050125\n",
       "96942815  5519235      850     100  20050125  85010020050125\n",
       "96942876  5586314        1     200  20050125    120020050125\n",
       "96942877  6496314        1     200  20050125    120020050125\n",
       "96942980  7992671       11     200  20050103   1120020050103\n",
       "96942981  3806163       11     200  20050105   1120020050105\n",
       "96942982  3806163       11     200  20050105   1120020050105\n",
       "96942983  3016216       11     200  20050106   1120020050106"
      ]
     },
     "execution_count": 43,
     "metadata": {},
     "output_type": "execute_result"
    }
   ],
   "source": [
    "onestoretrain = onestoretrain.assign(UNIQUETRANS = onestoretrain.REGISTER.astype(str) + onestoretrain.TRANNUM.astype(str)+ onestoretrain.SALEDATE.astype(str))\n",
    "onestoretrain.head(20)"
   ]
  },
  {
   "cell_type": "code",
   "execution_count": 44,
   "metadata": {},
   "outputs": [],
   "source": [
    "onestoretrain=onestoretrain.drop(columns=[\"REGISTER\", 'TRANNUM','SALEDATE'])"
   ]
  },
  {
   "cell_type": "code",
   "execution_count": 45,
   "metadata": {},
   "outputs": [],
   "source": [
    "onestoretest=onestoretest.drop(columns=[\"REGISTER\", 'TRANNUM','SALEDATE'])"
   ]
  },
  {
   "cell_type": "code",
   "execution_count": 46,
   "metadata": {},
   "outputs": [
    {
     "data": {
      "text/html": [
       "<div>\n",
       "<style scoped>\n",
       "    .dataframe tbody tr th:only-of-type {\n",
       "        vertical-align: middle;\n",
       "    }\n",
       "\n",
       "    .dataframe tbody tr th {\n",
       "        vertical-align: top;\n",
       "    }\n",
       "\n",
       "    .dataframe thead th {\n",
       "        text-align: right;\n",
       "    }\n",
       "</style>\n",
       "<table border=\"1\" class=\"dataframe\">\n",
       "  <thead>\n",
       "    <tr style=\"text-align: right;\">\n",
       "      <th></th>\n",
       "      <th>SKU</th>\n",
       "      <th>UNIQUETRANS</th>\n",
       "    </tr>\n",
       "  </thead>\n",
       "  <tbody>\n",
       "    <tr>\n",
       "      <td>96942483</td>\n",
       "      <td>9129941</td>\n",
       "      <td>5010020050123</td>\n",
       "    </tr>\n",
       "    <tr>\n",
       "      <td>96942522</td>\n",
       "      <td>868897</td>\n",
       "      <td>15010020050106</td>\n",
       "    </tr>\n",
       "    <tr>\n",
       "      <td>96942690</td>\n",
       "      <td>5400911</td>\n",
       "      <td>56010020050105</td>\n",
       "    </tr>\n",
       "    <tr>\n",
       "      <td>96942691</td>\n",
       "      <td>6196947</td>\n",
       "      <td>56010020050105</td>\n",
       "    </tr>\n",
       "    <tr>\n",
       "      <td>96942692</td>\n",
       "      <td>6614464</td>\n",
       "      <td>56010020050105</td>\n",
       "    </tr>\n",
       "  </tbody>\n",
       "</table>\n",
       "</div>"
      ],
      "text/plain": [
       "              SKU     UNIQUETRANS\n",
       "96942483  9129941   5010020050123\n",
       "96942522   868897  15010020050106\n",
       "96942690  5400911  56010020050105\n",
       "96942691  6196947  56010020050105\n",
       "96942692  6614464  56010020050105"
      ]
     },
     "execution_count": 46,
     "metadata": {},
     "output_type": "execute_result"
    }
   ],
   "source": [
    "onestoretrain.head()"
   ]
  },
  {
   "cell_type": "code",
   "execution_count": 47,
   "metadata": {},
   "outputs": [
    {
     "data": {
      "text/html": [
       "<div>\n",
       "<style scoped>\n",
       "    .dataframe tbody tr th:only-of-type {\n",
       "        vertical-align: middle;\n",
       "    }\n",
       "\n",
       "    .dataframe tbody tr th {\n",
       "        vertical-align: top;\n",
       "    }\n",
       "\n",
       "    .dataframe thead th {\n",
       "        text-align: right;\n",
       "    }\n",
       "</style>\n",
       "<table border=\"1\" class=\"dataframe\">\n",
       "  <thead>\n",
       "    <tr style=\"text-align: right;\">\n",
       "      <th></th>\n",
       "      <th>SKU</th>\n",
       "      <th>UNIQUETRANS</th>\n",
       "    </tr>\n",
       "  </thead>\n",
       "  <tbody>\n",
       "    <tr>\n",
       "      <td>96942476</td>\n",
       "      <td>7999269</td>\n",
       "      <td>1010020050207</td>\n",
       "    </tr>\n",
       "    <tr>\n",
       "      <td>96942497</td>\n",
       "      <td>136343</td>\n",
       "      <td>7010020050223</td>\n",
       "    </tr>\n",
       "    <tr>\n",
       "      <td>96942498</td>\n",
       "      <td>136343</td>\n",
       "      <td>7010020050223</td>\n",
       "    </tr>\n",
       "    <tr>\n",
       "      <td>96942571</td>\n",
       "      <td>3913323</td>\n",
       "      <td>19110020050221</td>\n",
       "    </tr>\n",
       "    <tr>\n",
       "      <td>96942574</td>\n",
       "      <td>8062893</td>\n",
       "      <td>20110020050224</td>\n",
       "    </tr>\n",
       "  </tbody>\n",
       "</table>\n",
       "</div>"
      ],
      "text/plain": [
       "              SKU     UNIQUETRANS\n",
       "96942476  7999269   1010020050207\n",
       "96942497   136343   7010020050223\n",
       "96942498   136343   7010020050223\n",
       "96942571  3913323  19110020050221\n",
       "96942574  8062893  20110020050224"
      ]
     },
     "execution_count": 47,
     "metadata": {},
     "output_type": "execute_result"
    }
   ],
   "source": [
    "onestoretest.head()"
   ]
  },
  {
   "cell_type": "code",
   "execution_count": 48,
   "metadata": {},
   "outputs": [],
   "source": [
    "export_csv = onestoretrain.to_csv ('onestoretrain.csv', index = None, header=True)"
   ]
  },
  {
   "cell_type": "code",
   "execution_count": 49,
   "metadata": {},
   "outputs": [],
   "source": [
    "export_csv = onestoretest.to_csv ('onestoretraintest.csv', index = None, header=True)"
   ]
  },
  {
   "cell_type": "markdown",
   "metadata": {},
   "source": [
    "# Code below this line was aimed at subsetting by season, but the dataframes were too large to do association algorithms (the kernel died)"
   ]
  },
  {
   "cell_type": "code",
   "execution_count": 12,
   "metadata": {},
   "outputs": [],
   "source": [
    "spring=data[data['SALEDATE'].str.contains('-03-|-04-|-05-', na=False)]\n",
    "summer=data[data['SALEDATE'].str.contains('-06-|-07-|-08-', na=False)]\n",
    "fall=data[data['SALEDATE'].str.contains('-09-|-10-|-11-', na=False)]\n",
    "winter=data[data['SALEDATE'].str.contains('-12-|-01-|-02-', na=False)]"
   ]
  },
  {
   "cell_type": "code",
   "execution_count": 13,
   "metadata": {},
   "outputs": [
    {
     "data": {
      "text/html": [
       "<div>\n",
       "<style scoped>\n",
       "    .dataframe tbody tr th:only-of-type {\n",
       "        vertical-align: middle;\n",
       "    }\n",
       "\n",
       "    .dataframe tbody tr th {\n",
       "        vertical-align: top;\n",
       "    }\n",
       "\n",
       "    .dataframe thead th {\n",
       "        text-align: right;\n",
       "    }\n",
       "</style>\n",
       "<table border=\"1\" class=\"dataframe\">\n",
       "  <thead>\n",
       "    <tr style=\"text-align: right;\">\n",
       "      <th></th>\n",
       "      <th>SKU</th>\n",
       "      <th>STORE</th>\n",
       "      <th>REGISTER</th>\n",
       "      <th>TRANNUM</th>\n",
       "      <th>SALEDATE</th>\n",
       "    </tr>\n",
       "  </thead>\n",
       "  <tbody>\n",
       "    <tr>\n",
       "      <td>6</td>\n",
       "      <td>148240</td>\n",
       "      <td>102</td>\n",
       "      <td>10</td>\n",
       "      <td>100</td>\n",
       "      <td>2005-03-18</td>\n",
       "    </tr>\n",
       "    <tr>\n",
       "      <td>7</td>\n",
       "      <td>2867564</td>\n",
       "      <td>102</td>\n",
       "      <td>10</td>\n",
       "      <td>100</td>\n",
       "      <td>2005-04-21</td>\n",
       "    </tr>\n",
       "    <tr>\n",
       "      <td>8</td>\n",
       "      <td>4097389</td>\n",
       "      <td>102</td>\n",
       "      <td>10</td>\n",
       "      <td>100</td>\n",
       "      <td>2005-04-30</td>\n",
       "    </tr>\n",
       "    <tr>\n",
       "      <td>9</td>\n",
       "      <td>1519759</td>\n",
       "      <td>102</td>\n",
       "      <td>10</td>\n",
       "      <td>100</td>\n",
       "      <td>2005-05-03</td>\n",
       "    </tr>\n",
       "    <tr>\n",
       "      <td>10</td>\n",
       "      <td>8869876</td>\n",
       "      <td>102</td>\n",
       "      <td>10</td>\n",
       "      <td>100</td>\n",
       "      <td>2005-05-03</td>\n",
       "    </tr>\n",
       "  </tbody>\n",
       "</table>\n",
       "</div>"
      ],
      "text/plain": [
       "        SKU  STORE  REGISTER  TRANNUM    SALEDATE\n",
       "6    148240    102        10      100  2005-03-18\n",
       "7   2867564    102        10      100  2005-04-21\n",
       "8   4097389    102        10      100  2005-04-30\n",
       "9   1519759    102        10      100  2005-05-03\n",
       "10  8869876    102        10      100  2005-05-03"
      ]
     },
     "execution_count": 13,
     "metadata": {},
     "output_type": "execute_result"
    }
   ],
   "source": [
    "spring.head()\n"
   ]
  },
  {
   "cell_type": "code",
   "execution_count": 17,
   "metadata": {},
   "outputs": [],
   "source": [
    "winter=winter[winter['SALEDATE'].str.contains('2005', na=False)]"
   ]
  },
  {
   "cell_type": "code",
   "execution_count": 14,
   "metadata": {},
   "outputs": [
    {
     "data": {
      "text/html": [
       "<div>\n",
       "<style scoped>\n",
       "    .dataframe tbody tr th:only-of-type {\n",
       "        vertical-align: middle;\n",
       "    }\n",
       "\n",
       "    .dataframe tbody tr th {\n",
       "        vertical-align: top;\n",
       "    }\n",
       "\n",
       "    .dataframe thead th {\n",
       "        text-align: right;\n",
       "    }\n",
       "</style>\n",
       "<table border=\"1\" class=\"dataframe\">\n",
       "  <thead>\n",
       "    <tr style=\"text-align: right;\">\n",
       "      <th></th>\n",
       "      <th>SKU</th>\n",
       "      <th>STORE</th>\n",
       "      <th>REGISTER</th>\n",
       "      <th>TRANNUM</th>\n",
       "      <th>SALEDATE</th>\n",
       "    </tr>\n",
       "  </thead>\n",
       "  <tbody>\n",
       "    <tr>\n",
       "      <td>17</td>\n",
       "      <td>2307933</td>\n",
       "      <td>102</td>\n",
       "      <td>10</td>\n",
       "      <td>100</td>\n",
       "      <td>2005-06-06</td>\n",
       "    </tr>\n",
       "    <tr>\n",
       "      <td>18</td>\n",
       "      <td>2367933</td>\n",
       "      <td>102</td>\n",
       "      <td>10</td>\n",
       "      <td>100</td>\n",
       "      <td>2005-06-06</td>\n",
       "    </tr>\n",
       "    <tr>\n",
       "      <td>19</td>\n",
       "      <td>2497650</td>\n",
       "      <td>102</td>\n",
       "      <td>10</td>\n",
       "      <td>100</td>\n",
       "      <td>2005-06-16</td>\n",
       "    </tr>\n",
       "    <tr>\n",
       "      <td>20</td>\n",
       "      <td>2574124</td>\n",
       "      <td>102</td>\n",
       "      <td>10</td>\n",
       "      <td>100</td>\n",
       "      <td>2005-06-29</td>\n",
       "    </tr>\n",
       "    <tr>\n",
       "      <td>21</td>\n",
       "      <td>9407504</td>\n",
       "      <td>102</td>\n",
       "      <td>10</td>\n",
       "      <td>100</td>\n",
       "      <td>2005-06-30</td>\n",
       "    </tr>\n",
       "  </tbody>\n",
       "</table>\n",
       "</div>"
      ],
      "text/plain": [
       "        SKU  STORE  REGISTER  TRANNUM    SALEDATE\n",
       "17  2307933    102        10      100  2005-06-06\n",
       "18  2367933    102        10      100  2005-06-06\n",
       "19  2497650    102        10      100  2005-06-16\n",
       "20  2574124    102        10      100  2005-06-29\n",
       "21  9407504    102        10      100  2005-06-30"
      ]
     },
     "execution_count": 14,
     "metadata": {},
     "output_type": "execute_result"
    }
   ],
   "source": [
    "summer.head()\n"
   ]
  },
  {
   "cell_type": "code",
   "execution_count": 15,
   "metadata": {},
   "outputs": [
    {
     "data": {
      "text/html": [
       "<div>\n",
       "<style scoped>\n",
       "    .dataframe tbody tr th:only-of-type {\n",
       "        vertical-align: middle;\n",
       "    }\n",
       "\n",
       "    .dataframe tbody tr th {\n",
       "        vertical-align: top;\n",
       "    }\n",
       "\n",
       "    .dataframe thead th {\n",
       "        text-align: right;\n",
       "    }\n",
       "</style>\n",
       "<table border=\"1\" class=\"dataframe\">\n",
       "  <thead>\n",
       "    <tr style=\"text-align: right;\">\n",
       "      <th></th>\n",
       "      <th>SKU</th>\n",
       "      <th>STORE</th>\n",
       "      <th>REGISTER</th>\n",
       "      <th>TRANNUM</th>\n",
       "      <th>SALEDATE</th>\n",
       "    </tr>\n",
       "  </thead>\n",
       "  <tbody>\n",
       "    <tr>\n",
       "      <td>0</td>\n",
       "      <td>440457</td>\n",
       "      <td>102</td>\n",
       "      <td>10</td>\n",
       "      <td>100</td>\n",
       "      <td>2004-09-11</td>\n",
       "    </tr>\n",
       "    <tr>\n",
       "      <td>1</td>\n",
       "      <td>6240353</td>\n",
       "      <td>102</td>\n",
       "      <td>10</td>\n",
       "      <td>100</td>\n",
       "      <td>2004-09-22</td>\n",
       "    </tr>\n",
       "    <tr>\n",
       "      <td>2</td>\n",
       "      <td>6240353</td>\n",
       "      <td>102</td>\n",
       "      <td>10</td>\n",
       "      <td>100</td>\n",
       "      <td>2004-09-22</td>\n",
       "    </tr>\n",
       "    <tr>\n",
       "      <td>3</td>\n",
       "      <td>7977157</td>\n",
       "      <td>102</td>\n",
       "      <td>10</td>\n",
       "      <td>100</td>\n",
       "      <td>2004-10-15</td>\n",
       "    </tr>\n",
       "    <tr>\n",
       "      <td>4</td>\n",
       "      <td>4736733</td>\n",
       "      <td>102</td>\n",
       "      <td>10</td>\n",
       "      <td>100</td>\n",
       "      <td>2004-10-25</td>\n",
       "    </tr>\n",
       "  </tbody>\n",
       "</table>\n",
       "</div>"
      ],
      "text/plain": [
       "       SKU  STORE  REGISTER  TRANNUM    SALEDATE\n",
       "0   440457    102        10      100  2004-09-11\n",
       "1  6240353    102        10      100  2004-09-22\n",
       "2  6240353    102        10      100  2004-09-22\n",
       "3  7977157    102        10      100  2004-10-15\n",
       "4  4736733    102        10      100  2004-10-25"
      ]
     },
     "execution_count": 15,
     "metadata": {},
     "output_type": "execute_result"
    }
   ],
   "source": [
    "fall.head()\n"
   ]
  },
  {
   "cell_type": "code",
   "execution_count": 18,
   "metadata": {},
   "outputs": [
    {
     "data": {
      "text/html": [
       "<div>\n",
       "<style scoped>\n",
       "    .dataframe tbody tr th:only-of-type {\n",
       "        vertical-align: middle;\n",
       "    }\n",
       "\n",
       "    .dataframe tbody tr th {\n",
       "        vertical-align: top;\n",
       "    }\n",
       "\n",
       "    .dataframe thead th {\n",
       "        text-align: right;\n",
       "    }\n",
       "</style>\n",
       "<table border=\"1\" class=\"dataframe\">\n",
       "  <thead>\n",
       "    <tr style=\"text-align: right;\">\n",
       "      <th></th>\n",
       "      <th>SKU</th>\n",
       "      <th>STORE</th>\n",
       "      <th>REGISTER</th>\n",
       "      <th>TRANNUM</th>\n",
       "      <th>SALEDATE</th>\n",
       "    </tr>\n",
       "  </thead>\n",
       "  <tbody>\n",
       "    <tr>\n",
       "      <td>33</td>\n",
       "      <td>136740</td>\n",
       "      <td>102</td>\n",
       "      <td>40</td>\n",
       "      <td>100</td>\n",
       "      <td>2005-01-29</td>\n",
       "    </tr>\n",
       "    <tr>\n",
       "      <td>34</td>\n",
       "      <td>1776445</td>\n",
       "      <td>102</td>\n",
       "      <td>40</td>\n",
       "      <td>100</td>\n",
       "      <td>2005-01-29</td>\n",
       "    </tr>\n",
       "    <tr>\n",
       "      <td>35</td>\n",
       "      <td>1846445</td>\n",
       "      <td>102</td>\n",
       "      <td>40</td>\n",
       "      <td>100</td>\n",
       "      <td>2005-01-29</td>\n",
       "    </tr>\n",
       "    <tr>\n",
       "      <td>36</td>\n",
       "      <td>5856118</td>\n",
       "      <td>102</td>\n",
       "      <td>40</td>\n",
       "      <td>100</td>\n",
       "      <td>2005-01-29</td>\n",
       "    </tr>\n",
       "    <tr>\n",
       "      <td>64</td>\n",
       "      <td>206281</td>\n",
       "      <td>102</td>\n",
       "      <td>100</td>\n",
       "      <td>100</td>\n",
       "      <td>2005-02-24</td>\n",
       "    </tr>\n",
       "  </tbody>\n",
       "</table>\n",
       "</div>"
      ],
      "text/plain": [
       "        SKU  STORE  REGISTER  TRANNUM    SALEDATE\n",
       "33   136740    102        40      100  2005-01-29\n",
       "34  1776445    102        40      100  2005-01-29\n",
       "35  1846445    102        40      100  2005-01-29\n",
       "36  5856118    102        40      100  2005-01-29\n",
       "64   206281    102       100      100  2005-02-24"
      ]
     },
     "execution_count": 18,
     "metadata": {},
     "output_type": "execute_result"
    }
   ],
   "source": [
    "winter.head()"
   ]
  },
  {
   "cell_type": "code",
   "execution_count": 4,
   "metadata": {},
   "outputs": [],
   "source": [
    "summer=summer.reset_index(drop=True)"
   ]
  },
  {
   "cell_type": "code",
   "execution_count": 5,
   "metadata": {},
   "outputs": [],
   "source": [
    "spring=spring.reset_index(drop=True)"
   ]
  },
  {
   "cell_type": "code",
   "execution_count": 25,
   "metadata": {},
   "outputs": [],
   "source": [
    "winter=winter.reset_index(drop=True)"
   ]
  },
  {
   "cell_type": "code",
   "execution_count": 7,
   "metadata": {},
   "outputs": [],
   "source": [
    "fall=fall.reset_index(drop=True)"
   ]
  },
  {
   "cell_type": "code",
   "execution_count": 18,
   "metadata": {},
   "outputs": [
    {
     "data": {
      "text/plain": [
       "(23688926, 5)"
      ]
     },
     "execution_count": 18,
     "metadata": {},
     "output_type": "execute_result"
    }
   ],
   "source": [
    "spring.shape"
   ]
  },
  {
   "cell_type": "code",
   "execution_count": 19,
   "metadata": {},
   "outputs": [
    {
     "data": {
      "text/plain": [
       "(34219301, 5)"
      ]
     },
     "execution_count": 19,
     "metadata": {},
     "output_type": "execute_result"
    }
   ],
   "source": [
    "summer.shape"
   ]
  },
  {
   "cell_type": "code",
   "execution_count": 26,
   "metadata": {},
   "outputs": [
    {
     "data": {
      "text/plain": [
       "(18697303, 5)"
      ]
     },
     "execution_count": 26,
     "metadata": {},
     "output_type": "execute_result"
    }
   ],
   "source": [
    "winter.shape"
   ]
  },
  {
   "cell_type": "code",
   "execution_count": 21,
   "metadata": {},
   "outputs": [
    {
     "data": {
      "text/plain": [
       "(22668255, 5)"
      ]
     },
     "execution_count": 21,
     "metadata": {},
     "output_type": "execute_result"
    }
   ],
   "source": [
    "fall.shape"
   ]
  },
  {
   "cell_type": "code",
   "execution_count": 22,
   "metadata": {},
   "outputs": [
    {
     "data": {
      "text/plain": [
       "SKU         0\n",
       "STORE       0\n",
       "REGISTER    0\n",
       "TRANNUM     0\n",
       "SALEDATE    0\n",
       "dtype: int64"
      ]
     },
     "execution_count": 22,
     "metadata": {},
     "output_type": "execute_result"
    }
   ],
   "source": [
    "spring.isna().sum()"
   ]
  },
  {
   "cell_type": "code",
   "execution_count": 23,
   "metadata": {},
   "outputs": [
    {
     "data": {
      "text/plain": [
       "SKU         0\n",
       "STORE       0\n",
       "REGISTER    0\n",
       "TRANNUM     0\n",
       "SALEDATE    0\n",
       "dtype: int64"
      ]
     },
     "execution_count": 23,
     "metadata": {},
     "output_type": "execute_result"
    }
   ],
   "source": [
    "summer.isna().sum()"
   ]
  },
  {
   "cell_type": "code",
   "execution_count": 24,
   "metadata": {},
   "outputs": [
    {
     "data": {
      "text/plain": [
       "SKU         0\n",
       "STORE       0\n",
       "REGISTER    0\n",
       "TRANNUM     0\n",
       "SALEDATE    0\n",
       "dtype: int64"
      ]
     },
     "execution_count": 24,
     "metadata": {},
     "output_type": "execute_result"
    }
   ],
   "source": [
    "fall.isna().sum()"
   ]
  },
  {
   "cell_type": "code",
   "execution_count": 25,
   "metadata": {},
   "outputs": [
    {
     "data": {
      "text/plain": [
       "SKU         0\n",
       "STORE       0\n",
       "REGISTER    0\n",
       "TRANNUM     0\n",
       "SALEDATE    0\n",
       "dtype: int64"
      ]
     },
     "execution_count": 25,
     "metadata": {},
     "output_type": "execute_result"
    }
   ],
   "source": [
    "winter.isna().sum()"
   ]
  },
  {
   "cell_type": "code",
   "execution_count": 8,
   "metadata": {},
   "outputs": [],
   "source": [
    "spring = spring.replace('-', '', regex=True).astype(str)"
   ]
  },
  {
   "cell_type": "code",
   "execution_count": 9,
   "metadata": {},
   "outputs": [],
   "source": [
    "summer = summer.replace('-', '', regex=True).astype(str)"
   ]
  },
  {
   "cell_type": "code",
   "execution_count": 10,
   "metadata": {},
   "outputs": [],
   "source": [
    "fall = fall.replace('-', '', regex=True).astype(str)"
   ]
  },
  {
   "cell_type": "code",
   "execution_count": 50,
   "metadata": {
    "scrolled": true
   },
   "outputs": [],
   "source": [
    "winter=winter.replace('-', '', regex=True).astype(str)"
   ]
  },
  {
   "cell_type": "code",
   "execution_count": null,
   "metadata": {},
   "outputs": [],
   "source": [
    "#data[\"UNIQUETRANS\"] = \"\"\n",
    "#data.UNIQUETRANS[0]=0\n",
    "#j=0\n",
    "#for i in range(0,len(data.index)):\n",
    "#    if data.STORE[i]==data.STORE[i-1] and data.REGISTER[i]==data.REGISTER[i-1] and data.TRANNUM[i]==data.TRANNUM[i-1]:\n",
    "#        data.UNIQUETRANS[i]=j\n",
    "#    else:\n",
    "#        data.UNIQUETRANS[i]=j+1\n",
    "#        j=j+1\n",
    "        "
   ]
  },
  {
   "cell_type": "code",
   "execution_count": 12,
   "metadata": {},
   "outputs": [],
   "source": [
    "spring = spring.assign(UNIQUETRANS = spring.STORE.astype(str) + spring.REGISTER.astype(str) + spring.TRANNUM.astype(str)+ spring.SALEDATE.astype(str))\n"
   ]
  },
  {
   "cell_type": "code",
   "execution_count": 14,
   "metadata": {},
   "outputs": [
    {
     "data": {
      "text/html": [
       "<div>\n",
       "<style scoped>\n",
       "    .dataframe tbody tr th:only-of-type {\n",
       "        vertical-align: middle;\n",
       "    }\n",
       "\n",
       "    .dataframe tbody tr th {\n",
       "        vertical-align: top;\n",
       "    }\n",
       "\n",
       "    .dataframe thead th {\n",
       "        text-align: right;\n",
       "    }\n",
       "</style>\n",
       "<table border=\"1\" class=\"dataframe\">\n",
       "  <thead>\n",
       "    <tr style=\"text-align: right;\">\n",
       "      <th></th>\n",
       "      <th>SKU</th>\n",
       "      <th>UNIQUETRANS</th>\n",
       "    </tr>\n",
       "  </thead>\n",
       "  <tbody>\n",
       "    <tr>\n",
       "      <td>0</td>\n",
       "      <td>148240</td>\n",
       "      <td>1021010020050318</td>\n",
       "    </tr>\n",
       "    <tr>\n",
       "      <td>1</td>\n",
       "      <td>2867564</td>\n",
       "      <td>1021010020050421</td>\n",
       "    </tr>\n",
       "    <tr>\n",
       "      <td>2</td>\n",
       "      <td>4097389</td>\n",
       "      <td>1021010020050430</td>\n",
       "    </tr>\n",
       "    <tr>\n",
       "      <td>3</td>\n",
       "      <td>1519759</td>\n",
       "      <td>1021010020050503</td>\n",
       "    </tr>\n",
       "    <tr>\n",
       "      <td>4</td>\n",
       "      <td>8869876</td>\n",
       "      <td>1021010020050503</td>\n",
       "    </tr>\n",
       "  </tbody>\n",
       "</table>\n",
       "</div>"
      ],
      "text/plain": [
       "       SKU       UNIQUETRANS\n",
       "0   148240  1021010020050318\n",
       "1  2867564  1021010020050421\n",
       "2  4097389  1021010020050430\n",
       "3  1519759  1021010020050503\n",
       "4  8869876  1021010020050503"
      ]
     },
     "execution_count": 14,
     "metadata": {},
     "output_type": "execute_result"
    }
   ],
   "source": [
    "spring=spring.drop(columns=[\"STORE\",\"REGISTER\", 'TRANNUM','SALEDATE'])\n",
    "spring.head()"
   ]
  },
  {
   "cell_type": "code",
   "execution_count": 15,
   "metadata": {},
   "outputs": [],
   "source": [
    "export_csv = spring.to_csv ('spring.csv', index = None, header=True)"
   ]
  },
  {
   "cell_type": "code",
   "execution_count": 16,
   "metadata": {},
   "outputs": [],
   "source": [
    "summer = summer.assign(UNIQUETRANS = summer.STORE.astype(str) + summer.REGISTER.astype(str) + summer.TRANNUM.astype(str)+ summer.SALEDATE.astype(str))"
   ]
  },
  {
   "cell_type": "code",
   "execution_count": 17,
   "metadata": {},
   "outputs": [
    {
     "data": {
      "text/html": [
       "<div>\n",
       "<style scoped>\n",
       "    .dataframe tbody tr th:only-of-type {\n",
       "        vertical-align: middle;\n",
       "    }\n",
       "\n",
       "    .dataframe tbody tr th {\n",
       "        vertical-align: top;\n",
       "    }\n",
       "\n",
       "    .dataframe thead th {\n",
       "        text-align: right;\n",
       "    }\n",
       "</style>\n",
       "<table border=\"1\" class=\"dataframe\">\n",
       "  <thead>\n",
       "    <tr style=\"text-align: right;\">\n",
       "      <th></th>\n",
       "      <th>SKU</th>\n",
       "      <th>UNIQUETRANS</th>\n",
       "    </tr>\n",
       "  </thead>\n",
       "  <tbody>\n",
       "    <tr>\n",
       "      <td>0</td>\n",
       "      <td>2307933</td>\n",
       "      <td>1021010020050606</td>\n",
       "    </tr>\n",
       "    <tr>\n",
       "      <td>1</td>\n",
       "      <td>2367933</td>\n",
       "      <td>1021010020050606</td>\n",
       "    </tr>\n",
       "    <tr>\n",
       "      <td>2</td>\n",
       "      <td>2497650</td>\n",
       "      <td>1021010020050616</td>\n",
       "    </tr>\n",
       "    <tr>\n",
       "      <td>3</td>\n",
       "      <td>2574124</td>\n",
       "      <td>1021010020050629</td>\n",
       "    </tr>\n",
       "    <tr>\n",
       "      <td>4</td>\n",
       "      <td>9407504</td>\n",
       "      <td>1021010020050630</td>\n",
       "    </tr>\n",
       "  </tbody>\n",
       "</table>\n",
       "</div>"
      ],
      "text/plain": [
       "       SKU       UNIQUETRANS\n",
       "0  2307933  1021010020050606\n",
       "1  2367933  1021010020050606\n",
       "2  2497650  1021010020050616\n",
       "3  2574124  1021010020050629\n",
       "4  9407504  1021010020050630"
      ]
     },
     "execution_count": 17,
     "metadata": {},
     "output_type": "execute_result"
    }
   ],
   "source": [
    "summer=summer.drop(columns=[\"STORE\",\"REGISTER\", 'TRANNUM','SALEDATE'])\n",
    "summer.head()"
   ]
  },
  {
   "cell_type": "code",
   "execution_count": 18,
   "metadata": {},
   "outputs": [],
   "source": [
    "export_csv = summer.to_csv ('summer.csv', index = None, header=True)"
   ]
  },
  {
   "cell_type": "code",
   "execution_count": 19,
   "metadata": {},
   "outputs": [],
   "source": [
    "fall = fall.assign(UNIQUETRANS = fall.STORE.astype(str) + fall.REGISTER.astype(str) + fall.TRANNUM.astype(str)+ fall.SALEDATE.astype(str))"
   ]
  },
  {
   "cell_type": "code",
   "execution_count": 20,
   "metadata": {},
   "outputs": [
    {
     "data": {
      "text/html": [
       "<div>\n",
       "<style scoped>\n",
       "    .dataframe tbody tr th:only-of-type {\n",
       "        vertical-align: middle;\n",
       "    }\n",
       "\n",
       "    .dataframe tbody tr th {\n",
       "        vertical-align: top;\n",
       "    }\n",
       "\n",
       "    .dataframe thead th {\n",
       "        text-align: right;\n",
       "    }\n",
       "</style>\n",
       "<table border=\"1\" class=\"dataframe\">\n",
       "  <thead>\n",
       "    <tr style=\"text-align: right;\">\n",
       "      <th></th>\n",
       "      <th>SKU</th>\n",
       "      <th>UNIQUETRANS</th>\n",
       "    </tr>\n",
       "  </thead>\n",
       "  <tbody>\n",
       "    <tr>\n",
       "      <td>0</td>\n",
       "      <td>440457</td>\n",
       "      <td>1021010020040911</td>\n",
       "    </tr>\n",
       "    <tr>\n",
       "      <td>1</td>\n",
       "      <td>6240353</td>\n",
       "      <td>1021010020040922</td>\n",
       "    </tr>\n",
       "    <tr>\n",
       "      <td>2</td>\n",
       "      <td>6240353</td>\n",
       "      <td>1021010020040922</td>\n",
       "    </tr>\n",
       "    <tr>\n",
       "      <td>3</td>\n",
       "      <td>7977157</td>\n",
       "      <td>1021010020041015</td>\n",
       "    </tr>\n",
       "    <tr>\n",
       "      <td>4</td>\n",
       "      <td>4736733</td>\n",
       "      <td>1021010020041025</td>\n",
       "    </tr>\n",
       "  </tbody>\n",
       "</table>\n",
       "</div>"
      ],
      "text/plain": [
       "       SKU       UNIQUETRANS\n",
       "0   440457  1021010020040911\n",
       "1  6240353  1021010020040922\n",
       "2  6240353  1021010020040922\n",
       "3  7977157  1021010020041015\n",
       "4  4736733  1021010020041025"
      ]
     },
     "execution_count": 20,
     "metadata": {},
     "output_type": "execute_result"
    }
   ],
   "source": [
    "fall=fall.drop(columns=[\"STORE\",\"REGISTER\", 'TRANNUM','SALEDATE'])\n",
    "fall.head()"
   ]
  },
  {
   "cell_type": "code",
   "execution_count": 21,
   "metadata": {},
   "outputs": [],
   "source": [
    "export_csv = fall.to_csv ('fall.csv', index = None, header=True)"
   ]
  },
  {
   "cell_type": "code",
   "execution_count": 22,
   "metadata": {},
   "outputs": [],
   "source": [
    "winter = winter.assign(UNIQUETRANS = winter.STORE.astype(str) + winter.REGISTER.astype(str) + winter.TRANNUM.astype(str)+ winter.SALEDATE.astype(str))"
   ]
  },
  {
   "cell_type": "code",
   "execution_count": 23,
   "metadata": {},
   "outputs": [
    {
     "data": {
      "text/html": [
       "<div>\n",
       "<style scoped>\n",
       "    .dataframe tbody tr th:only-of-type {\n",
       "        vertical-align: middle;\n",
       "    }\n",
       "\n",
       "    .dataframe tbody tr th {\n",
       "        vertical-align: top;\n",
       "    }\n",
       "\n",
       "    .dataframe thead th {\n",
       "        text-align: right;\n",
       "    }\n",
       "</style>\n",
       "<table border=\"1\" class=\"dataframe\">\n",
       "  <thead>\n",
       "    <tr style=\"text-align: right;\">\n",
       "      <th></th>\n",
       "      <th>SKU</th>\n",
       "      <th>UNIQUETRANS</th>\n",
       "    </tr>\n",
       "  </thead>\n",
       "  <tbody>\n",
       "    <tr>\n",
       "      <td>0</td>\n",
       "      <td>5633754</td>\n",
       "      <td>1021010020041218</td>\n",
       "    </tr>\n",
       "    <tr>\n",
       "      <td>1</td>\n",
       "      <td>8084201</td>\n",
       "      <td>1023010020041212</td>\n",
       "    </tr>\n",
       "    <tr>\n",
       "      <td>2</td>\n",
       "      <td>136740</td>\n",
       "      <td>1024010020050129</td>\n",
       "    </tr>\n",
       "    <tr>\n",
       "      <td>3</td>\n",
       "      <td>1776445</td>\n",
       "      <td>1024010020050129</td>\n",
       "    </tr>\n",
       "    <tr>\n",
       "      <td>4</td>\n",
       "      <td>1846445</td>\n",
       "      <td>1024010020050129</td>\n",
       "    </tr>\n",
       "  </tbody>\n",
       "</table>\n",
       "</div>"
      ],
      "text/plain": [
       "       SKU       UNIQUETRANS\n",
       "0  5633754  1021010020041218\n",
       "1  8084201  1023010020041212\n",
       "2   136740  1024010020050129\n",
       "3  1776445  1024010020050129\n",
       "4  1846445  1024010020050129"
      ]
     },
     "execution_count": 23,
     "metadata": {},
     "output_type": "execute_result"
    }
   ],
   "source": [
    "winter=winter.drop(columns=[\"STORE\",\"REGISTER\", 'TRANNUM','SALEDATE'])\n",
    "winter.head()"
   ]
  },
  {
   "cell_type": "code",
   "execution_count": 24,
   "metadata": {},
   "outputs": [],
   "source": [
    "export_csv = winter.to_csv ('winter.csv', index = None, header=True)"
   ]
  },
  {
   "cell_type": "code",
   "execution_count": null,
   "metadata": {},
   "outputs": [],
   "source": []
  }
 ],
 "metadata": {
  "kernelspec": {
   "display_name": "Python 3",
   "language": "python",
   "name": "python3"
  },
  "language_info": {
   "codemirror_mode": {
    "name": "ipython",
    "version": 3
   },
   "file_extension": ".py",
   "mimetype": "text/x-python",
   "name": "python",
   "nbconvert_exporter": "python",
   "pygments_lexer": "ipython3",
   "version": "3.7.4"
  }
 },
 "nbformat": 4,
 "nbformat_minor": 2
}
